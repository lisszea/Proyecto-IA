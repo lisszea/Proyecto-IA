{
  "cells": [
    {
      "cell_type": "markdown",
      "metadata": {
        "id": "IDvbcwOHQ_yL"
      },
      "source": [
        "# 06.02 - PCA"
      ]
    },
    {
      "cell_type": "code",
      "execution_count": 131,
      "metadata": {
        "id": "G36rENi3Q_yT",
        "colab": {
          "base_uri": "https://localhost:8080/",
          "height": 58
        },
        "outputId": "09daf604-57d8-4acb-86d6-df82d214f0a1"
      },
      "outputs": [
        {
          "output_type": "display_data",
          "data": {
            "text/plain": [
              "<IPython.core.display.HTML object>"
            ],
            "text/html": [
              "\n",
              "<meta name=\"google-signin-client_id\"\n",
              "      content=\"461673936472-kdjosv61up3ac1ajeuq6qqu72upilmls.apps.googleusercontent.com\"/>\n",
              "<script src=\"https://apis.google.com/js/client:platform.js?onload=google_button_start\"></script>\n",
              "    "
            ]
          },
          "metadata": {}
        },
        {
          "output_type": "execute_result",
          "data": {
            "text/plain": [
              "<IPython.core.display.HTML object>"
            ],
            "text/html": [
              "<h3>See <a href='https://m5knaekxo6.execute-api.us-west-2.amazonaws.com/dev-v0001/rlxmooc/web/login' target='_blank'>my courses and progress</a></h2>"
            ]
          },
          "metadata": {},
          "execution_count": 131
        }
      ],
      "source": [
        "!wget --no-cache -O init.py -q https://raw.githubusercontent.com/rramosp/ai4eng.v1/main/content/init.py\n",
        "import init; init.init(force_download=False); init.get_weblink()"
      ]
    },
    {
      "cell_type": "code",
      "source": [
        "!rm -rf Proyecto-I.A"
      ],
      "metadata": {
        "id": "dmY-pyHORgAP"
      },
      "execution_count": 134,
      "outputs": []
    },
    {
      "cell_type": "code",
      "source": [
        "!git clone https://github.com/doviedob/Proyecto-I.A.git"
      ],
      "metadata": {
        "colab": {
          "base_uri": "https://localhost:8080/"
        },
        "id": "e80E0L9ERgsk",
        "outputId": "31c860ef-e6b7-44d8-ed43-530146fe7caa"
      },
      "execution_count": 135,
      "outputs": [
        {
          "output_type": "stream",
          "name": "stdout",
          "text": [
            "Cloning into 'Proyecto-I.A'...\n",
            "remote: Enumerating objects: 39, done.\u001b[K\n",
            "remote: Counting objects: 100% (39/39), done.\u001b[K\n",
            "remote: Compressing objects: 100% (36/36), done.\u001b[K\n",
            "remote: Total 39 (delta 11), reused 0 (delta 0), pack-reused 0\u001b[K\n",
            "Unpacking objects: 100% (39/39), 5.18 MiB | 4.00 MiB/s, done.\n"
          ]
        }
      ]
    },
    {
      "cell_type": "code",
      "source": [
        "import pandas as pd\n",
        "d = pd.read_csv('Proyecto-I.A/train_listo.csv')\n",
        "f = pd.read_csv('Proyecto-I.A/test_recortado.csv')"
      ],
      "metadata": {
        "id": "BC4ghgW7RlF8"
      },
      "execution_count": 136,
      "outputs": []
    },
    {
      "cell_type": "code",
      "source": [],
      "metadata": {
        "id": "Y-_DQWEARrx6"
      },
      "execution_count": null,
      "outputs": []
    },
    {
      "cell_type": "code",
      "execution_count": 137,
      "metadata": {
        "id": "QIqNEp1uQ_yW"
      },
      "outputs": [],
      "source": [
        "import pandas as pd\n",
        "import numpy as np\n",
        "import matplotlib.pyplot as plt\n",
        "%matplotlib inline\n"
      ]
    },
    {
      "cell_type": "markdown",
      "metadata": {
        "id": "5mYWRbAGQ_yX"
      },
      "source": [
        "consulta [A Tutorial on Principal Component Analysis](https://www.cs.princeton.edu/picasso/mats/PCA-Tutorial-Intuition_jp.pdf) para una decripción intuitiva y detallada de PCA y SVD"
      ]
    },
    {
      "cell_type": "code",
      "source": [],
      "metadata": {
        "id": "0UrAliwcRegp"
      },
      "execution_count": null,
      "outputs": []
    },
    {
      "cell_type": "code",
      "execution_count": 138,
      "metadata": {
        "id": "3PeAKkaWQ_yZ",
        "outputId": "95c5c96d-355d-40f3-fb76-7bf1bac58e40",
        "colab": {
          "base_uri": "https://localhost:8080/"
        }
      },
      "outputs": [
        {
          "output_type": "stream",
          "name": "stdout",
          "text": [
            "(10000, 48)\n",
            "(10000,)\n"
          ]
        }
      ],
      "source": [
        "X=d.iloc[:,2:]# Datos de variables estimadores\n",
        "X=X.values\n",
        "X.shape \n",
        "y=d.iloc[:,1] #Salida es variable objetivo\n",
        "y=y.values\n",
        "\n",
        "XV=f.iloc[:,2:]# Datos de variables estimadores\n",
        "XV=XV.values\n",
        "print(XV.shape) \n",
        "yV=f.iloc[:,1] #Salida es variable objetivo\n",
        "yV=yV.values\n",
        "print(yV.shape)"
      ]
    },
    {
      "cell_type": "code",
      "source": [],
      "metadata": {
        "id": "6DvYRoFsRSbU"
      },
      "execution_count": null,
      "outputs": []
    },
    {
      "cell_type": "code",
      "source": [
        "import numpy as np\n",
        "\n",
        "from sklearn.decomposition import PCA\n",
        "from sklearn.metrics import silhouette_score\n",
        "\n",
        "# Generar datos de ejemplo\n",
        "X=X\n",
        " # Datos con forma (1000, 10)\n",
        "\n",
        "# Crear una instancia de PCA\n",
        "pca = PCA()\n",
        "\n",
        "# Ajustar PCA al conjunto de datos\n",
        "pca.fit(X)\n",
        "\n",
        "# Obtener las componentes principales\n",
        "components = pca.components_\n",
        "\n",
        "# Calcular la varianza explicada por cada componente principal\n",
        "variance_ratio = pca.explained_variance_ratio_\n",
        "\n",
        "# Calcular la varianza total explicada por todas las componentes principales\n",
        "total_variance = np.sum(variance_ratio)\n",
        "\n",
        "# Calcular la suma acumulada de varianza explicada\n",
        "cumulative_variance = np.cumsum(variance_ratio)\n",
        "\n",
        "# Calcular el coeficiente de silueta para las componentes principales seleccionadas\n",
        "n_components = 3  # Número de componentes principales seleccionadas\n",
        "X_transformed = pca.transform(X)[:, :n_components]\n",
        "\n",
        "\n",
        "# Imprimir los resultados\n",
        "print(\"Varianza explicada por cada componente principal:\", variance_ratio)\n",
        "print(\"Varianza total explicada:\", total_variance)\n",
        "print(\"Varianza explicada acumulada:\", cumulative_variance)\n",
        "\n"
      ],
      "metadata": {
        "colab": {
          "base_uri": "https://localhost:8080/"
        },
        "id": "budLZeVWm7ls",
        "outputId": "9b2a2d82-1d2e-4be2-e53f-f4cb1204aa22"
      },
      "execution_count": 139,
      "outputs": [
        {
          "output_type": "stream",
          "name": "stdout",
          "text": [
            "Varianza explicada por cada componente principal: [3.40965745e-01 8.27161499e-02 5.08843521e-02 4.85150147e-02\n",
            " 4.65267526e-02 4.57749383e-02 4.50911602e-02 3.35131791e-02\n",
            " 2.67094527e-02 2.64590539e-02 2.59886172e-02 2.55267362e-02\n",
            " 2.51188035e-02 2.24902296e-02 1.57292444e-02 1.38345708e-02\n",
            " 1.34861248e-02 1.22213608e-02 1.05895499e-02 8.76719548e-03\n",
            " 8.15649451e-03 7.16243264e-03 6.84769644e-03 6.06611061e-03\n",
            " 5.98956423e-03 5.19020878e-03 5.13168178e-03 4.92782839e-03\n",
            " 4.81301797e-03 3.73209099e-03 3.67964080e-03 3.50556294e-03\n",
            " 3.08037882e-03 2.00251239e-03 1.60676906e-03 1.43648172e-03\n",
            " 1.39632232e-03 1.17279191e-03 1.12263075e-03 5.60941567e-04\n",
            " 4.44292030e-04 3.54334309e-04 2.19280600e-04 2.09824978e-04\n",
            " 1.23690153e-04 7.21893761e-05 6.05389308e-05 2.64599225e-05]\n",
            "Varianza total explicada: 1.0\n",
            "Varianza explicada acumulada: [0.34096574 0.42368189 0.47456625 0.52308126 0.56960801 0.61538295\n",
            " 0.66047411 0.69398729 0.72069674 0.7471558  0.77314442 0.79867115\n",
            " 0.82378996 0.84628018 0.86200943 0.875844   0.88933012 0.90155149\n",
            " 0.91214104 0.92090823 0.92906473 0.93622716 0.94307485 0.94914097\n",
            " 0.95513053 0.96032074 0.96545242 0.97038025 0.97519327 0.97892536\n",
            " 0.982605   0.98611056 0.98919094 0.99119345 0.99280022 0.9942367\n",
            " 0.99563303 0.99680582 0.99792845 0.99848939 0.99893368 0.99928802\n",
            " 0.9995073  0.99971712 0.99984081 0.999913   0.99997354 1.        ]\n"
          ]
        }
      ]
    },
    {
      "cell_type": "code",
      "source": [
        "import numpy as np\n",
        "from sklearn.decomposition import PCA\n",
        "from sklearn.model_selection import train_test_split\n",
        "from sklearn.tree import DecisionTreeClassifier\n",
        "from sklearn.metrics import accuracy_score, precision_score, recall_score\n",
        "\n",
        "\n",
        "# Paso 2: Dividir los datos en conjunto de entrenamiento y prueba\n",
        "X_train, X_test, y_train, y_test = train_test_split(X, y, test_size=0.2, random_state=42)\n",
        "\n",
        "# Paso 3: Entrenar el modelo supervisado (Árbol de Decisión)\n",
        "dt = DecisionTreeClassifier(max_depth=10)\n",
        "dt.fit(X_train, y_train)\n",
        "\n",
        "# Paso 4: Hacer predicciones en el conjunto de prueba\n",
        "y_pred = dt.predict(X_test)\n",
        "\n",
        "# Paso 5: Evaluar el rendimiento del modelo\n",
        "accuracy = accuracy_score(y_test, y_pred)\n",
        "precision = precision_score(y_test, y_pred)\n",
        "recall = recall_score(y_test, y_pred)\n",
        "\n",
        "print(\"Metrics:\")\n",
        "print(\"Accuracy:\", accuracy)\n",
        "print(\"Precision:\", precision)\n",
        "print(\"Recall:\", recall)\n",
        "\n"
      ],
      "metadata": {
        "colab": {
          "base_uri": "https://localhost:8080/"
        },
        "id": "ui9brpVf6j0o",
        "outputId": "885cfa58-970b-4ca7-8690-eaf5885d35a2"
      },
      "execution_count": 140,
      "outputs": [
        {
          "output_type": "stream",
          "name": "stdout",
          "text": [
            "Metrics:\n",
            "Accuracy: 0.872\n",
            "Precision: 0.13414634146341464\n",
            "Recall: 0.05612244897959184\n"
          ]
        }
      ]
    },
    {
      "cell_type": "code",
      "execution_count": null,
      "metadata": {
        "id": "CYFN8TLSQ_yq"
      },
      "outputs": [],
      "source": []
    }
  ],
  "metadata": {
    "kernelspec": {
      "display_name": "Python 3",
      "language": "python",
      "name": "python3"
    },
    "language_info": {
      "codemirror_mode": {
        "name": "ipython",
        "version": 3
      },
      "file_extension": ".py",
      "mimetype": "text/x-python",
      "name": "python",
      "nbconvert_exporter": "python",
      "pygments_lexer": "ipython3",
      "version": "3.7.6"
    },
    "colab": {
      "provenance": []
    }
  },
  "nbformat": 4,
  "nbformat_minor": 0
}